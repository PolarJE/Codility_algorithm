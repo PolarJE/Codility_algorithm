{
 "cells": [
  {
   "cell_type": "markdown",
   "metadata": {},
   "source": [
    "# CyclicRotation"
   ]
  },
  {
   "cell_type": "markdown",
   "metadata": {},
   "source": [
    "For example, given <br>\n",
    "    A = [3, 8, 9, 7, 6]<br>\n",
    "    K = 3 <br>\n",
    "the function should return [9, 7, 6, 3, 8]. Three rotations were made:"
   ]
  },
  {
   "cell_type": "code",
   "execution_count": 42,
   "metadata": {},
   "outputs": [
    {
     "name": "stdout",
     "output_type": "stream",
     "text": [
      "배열을 입력해주세요: 38976\n",
      "숫자를 입력해주세요: 3\n"
     ]
    }
   ],
   "source": [
    "A = list(input('배열을 입력해주세요: '))\n",
    "K = int(input('숫자를 입력해주세요: '))"
   ]
  },
  {
   "cell_type": "code",
   "execution_count": 43,
   "metadata": {},
   "outputs": [],
   "source": [
    "# 정답\n",
    "def solution(A, K):\n",
    "    if len(A) == 0:\n",
    "        return A\n",
    "    K = K % len(A)\n",
    "    return A[-K:]+A[:-K]"
   ]
  },
  {
   "cell_type": "code",
   "execution_count": 44,
   "metadata": {},
   "outputs": [],
   "source": [
    "# 25%짜리 정답\n",
    "def solution_wrong(A, K):\n",
    "    if (K < len(A)):\n",
    "        new_A = A[K-1:]+A[:K-1]\n",
    "    else:\n",
    "        K = K-len(A)\n",
    "        new_A = A[K:]+A[:K]\n",
    "    return new_A"
   ]
  },
  {
   "cell_type": "code",
   "execution_count": 45,
   "metadata": {},
   "outputs": [
    {
     "name": "stdout",
     "output_type": "stream",
     "text": [
      "['9', '7', '6', '3', '8']\n"
     ]
    }
   ],
   "source": [
    "print(solution(A,K))"
   ]
  },
  {
   "cell_type": "markdown",
   "metadata": {},
   "source": [
    "[참고] <br>deque는 스택과 큐의 기능을 모두 가진 객체로 출입구를 양쪽에 가지고 있다. <br>\n",
    "스택처럼써도 되고, 큐처럼 써도 된다.<br>\n",
    "https://dongdongfather.tistory.com/72"
   ]
  }
 ],
 "metadata": {
  "kernelspec": {
   "display_name": "Python 3",
   "language": "python",
   "name": "python3"
  },
  "language_info": {
   "codemirror_mode": {
    "name": "ipython",
    "version": 3
   },
   "file_extension": ".py",
   "mimetype": "text/x-python",
   "name": "python",
   "nbconvert_exporter": "python",
   "pygments_lexer": "ipython3",
   "version": "3.7.3"
  }
 },
 "nbformat": 4,
 "nbformat_minor": 2
}
